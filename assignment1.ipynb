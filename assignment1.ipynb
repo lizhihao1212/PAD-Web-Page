{
 "cells": [
  {
   "cell_type": "markdown",
   "metadata": {},
   "source": [
    "## Part 1: The Doomsday Algorithm\n",
    "\n",
    "The Doomsday algorithm, devised by mathematician J. H. Conway, computes the day of the week any given date fell on. The algorithm is designed to be simple enough to memorize and use for mental calculation.\n",
    "\n",
    "__Example.__ With the algorithm, we can compute that July 4, 1776 (the day the United States declared independence from Great Britain) was a Thursday.\n",
    "\n",
    "The algorithm is based on the fact that for any year, several dates always fall on the same day of the week, called the <em style=\"color:#F00\">doomsday</em> for the year. These dates include 4/4, 6/6, 8/8, 10/10, and 12/12.\n",
    "\n",
    "__Example.__ The doomsday for 2016 is Monday, so in 2016 the dates above all fell on Mondays. The doomsday for 2017 is Tuesday, so in 2017 the dates above will all fall on Tuesdays.\n",
    "\n",
    "The doomsday algorithm has three major steps:\n",
    "\n",
    "1. Compute the anchor day for the target century.\n",
    "2. Compute the doomsday for the target year based on the anchor day.\n",
    "3. Determine the day of week for the target date by counting the number of days to the nearest doomsday.\n",
    "\n",
    "Each step is explained in detail below."
   ]
  },
  {
   "cell_type": "markdown",
   "metadata": {},
   "source": [
    "### The Anchor Day\n",
    "\n",
    "The doomsday for the first year in a century is called the <em style=\"color:#F00\">anchor day</em> for that century. The anchor day is needed to compute the doomsday for any other year in that century. The anchor day for a century $c$ can be computed with the formula:\n",
    "$$\n",
    "a = \\bigl( 5 (c \\bmod 4) + 2 \\bigr) \\bmod 7\n",
    "$$\n",
    "The result $a$ corresponds to a day of the week, starting with $0$ for Sunday and ending with $6$ for Saturday.\n",
    "\n",
    "__Note.__ The modulo operation $(x \\bmod y)$ finds the remainder after dividing $x$ by $y$. For instance, $12 \\bmod 3 = 0$ since the remainder after dividing $12$ by $3$ is $0$. Similarly, $11 \\bmod 7 = 4$, since the remainder after dividing $11$ by $7$ is $4$.\n",
    "\n",
    "__Example.__ Suppose the target year is 1954, so the century is $c = 19$. Plugging this into the formula gives\n",
    "$$a = \\bigl( 5 (19 \\bmod 4) + 2 \\bigr) \\bmod 7 = \\bigl( 5(3) + 2 \\bigr) \\bmod 7 = 3.$$\n",
    "In other words, the anchor day for 1900-1999 is Wednesday, which is also the doomsday for 1900.\n",
    "\n",
    "__Exercise 1.1.__ Write a function that accepts a year as input and computes the anchor day for that year's century. The modulo operator `%` and functions in the `math` module may be useful. Document your function with a docstring and test your function for a few different years.  Do this in a new cell below this one."
   ]
  },
  {
   "cell_type": "code",
   "execution_count": 67,
   "metadata": {
    "collapsed": false
   },
   "outputs": [],
   "source": [
    "import math\n",
    "import numpy\n",
    "import collections\n",
    "def FindAnchorDay(year):\n",
    "        '''\n",
    "        Read the year into the function.\n",
    "        Arguements:\n",
    "            year(int): the year that need to get the anchor year\n",
    "        Return:\n",
    "            result(int): the date of the anchor day\n",
    "        '''\n",
    "        a=math.floor(year/100) #get the first two digit\n",
    "        result=(5*(a%4)+2)%7 #using the fomula to get the result\n",
    "        return int(result); #return the result"
   ]
  },
  {
   "cell_type": "code",
   "execution_count": null,
   "metadata": {
    "collapsed": true
   },
   "outputs": [],
   "source": []
  },
  {
   "cell_type": "markdown",
   "metadata": {},
   "source": [
    "### The Doomsday\n",
    "\n",
    "Once the anchor day is known, let $y$ be the last two digits of the target year. Then the doomsday for the target year can be computed with the formula:\n",
    "$$d = \\left(y + \\left\\lfloor\\frac{y}{4}\\right\\rfloor + a\\right) \\bmod 7$$\n",
    "The result $d$ corresponds to a day of the week.\n",
    "\n",
    "__Note.__ The floor operation $\\lfloor x \\rfloor$ rounds $x$ down to the nearest integer. For instance, $\\lfloor 3.1 \\rfloor = 3$ and $\\lfloor 3.8 \\rfloor = 3$.\n",
    "\n",
    "__Example.__ Again suppose the target year is 1954. Then the anchor day is $a = 3$, and $y = 54$, so the formula gives\n",
    "$$\n",
    "d = \\left(54 + \\left\\lfloor\\frac{54}{4}\\right\\rfloor + 3\\right) \\bmod 7 = (54 + 13 + 3) \\bmod 7 = 0.\n",
    "$$\n",
    "Thus the doomsday for 1954 is Sunday.\n",
    "\n",
    "__Exercise 1.2.__ Write a function that accepts a year as input and computes the doomsday for that year. Your function may need to call the function you wrote in exercise 1.1. Make sure to document and test your function."
   ]
  },
  {
   "cell_type": "code",
   "execution_count": 71,
   "metadata": {
    "collapsed": false
   },
   "outputs": [],
   "source": [
    "def FindDoomsDay(year):\n",
    "        '''\n",
    "        Read the year into the function.\n",
    "        Arguements:\n",
    "            year(int): the year that need to get the dooms's day\n",
    "        Return:\n",
    "            result(int): the day of the date  of the doomsday\n",
    "        '''\n",
    "\n",
    "\ty = year%100 #get the last two digit of the year\n",
    "\tz = FindAnchorDay(year) \n",
    "\tresult = (y+math.floor(y/4)+z)%7 #using the function to get the result\n",
    "\treturn int(result); #return the result"
   ]
  },
  {
   "cell_type": "markdown",
   "metadata": {},
   "source": [
    "### The Day of Week\n",
    "\n",
    "The final step in the Doomsday algorithm is to count the number of days between the target date and a nearby doomsday, modulo 7. This gives the day of the week.\n",
    "\n",
    "Every month has at least one doomsday:\n",
    "* (regular years) 1/10, 2/28\n",
    "* (leap years) 1/11, 2/29\n",
    "* 3/21, 4/4, 5/9, 6/6, 7/11, 8/8, 9/5, 10/10, 11/7, 12/12\n",
    "\n",
    "__Example.__ Suppose we want to find the day of the week for 7/21/1954. The doomsday for 1954 is Sunday, and a nearby doomsday is 7/11. There are 10 days in July between 7/11 and 7/21. Since $10 \\bmod 7 = 3$, the date 7/21/1954 falls 3 days after a Sunday, on a Wednesday.\n",
    "\n",
    "__Exercise 1.3.__ Write a function to determine the day of the week for a given day, month, and year. Be careful of leap years! Your function should return a string such as \"Thursday\" rather than a number. As usual, document and test your code."
   ]
  },
  {
   "cell_type": "code",
   "execution_count": 75,
   "metadata": {
    "collapsed": false
   },
   "outputs": [
    {
     "data": {
      "text/plain": [
       "'Sunday'"
      ]
     },
     "execution_count": 75,
     "metadata": {},
     "output_type": "execute_result"
    }
   ],
   "source": [
    "def FindTheDat(date,month,year):\n",
    "        '''\n",
    "            Read the year, month,date into the function.\n",
    "            Arguements:\n",
    "                year(int),month(int),date(int): the year that need to get the dooms's day\n",
    "            Return:\n",
    "                result(string): the day of the date \n",
    "        '''\n",
    "\tlist_leap = [11,29,21,4,9,6,11,8,5,10,7,12]\n",
    "\tlist_reg = [10,28,21,4,9,6,11,8,5,10,7,12]\n",
    "\tlist_res = [\"Monday\",\"Tuesday\",\"Wednesday\",\"Thursday\",\"Friday\",\"Saturday\",'Sunday'] #form three lists than is the date of leap year, regular year and the day's name\n",
    "\tif(( year%400 == 0) or (( year%4 == 0 ) and ( year%100 != 0))): #if is leap year\n",
    "\t\tresult = abs(date - list_leap[month-1])%7 #calculate the distance\n",
    "\t\tif ((date - list_leap[month-1])>=0): #if the target date is after the doomsday\n",
    "\t\t\tresult_final = list_res[((FindDoomsDay(year)+result)%7)-1] #get the result\n",
    "\t\telse:   #if the target date is before the doomsday\n",
    "\t\t\tresult_final = list_res[((FindDoomsDay(year)-result)%7)-1]\n",
    "\telse:#if is regular year\n",
    "\t\tresult = abs(date - list_reg[month-1])%7#calculate the distance\n",
    "\t\tif(date - list_reg[month-1]>=0):#if the target date is after the doomsday\n",
    "\t\t\tresult_final = list_res[((FindDoomsDay(year)+result)%7)-1]#get the result\n",
    "\t\telse:#if the target date is before the doomsday\n",
    "\t\t\tresult_final = list_res[((FindDoomsDay(year)-result)%7)-1]\n",
    "\t\t\t\n",
    "\treturn result_final;#return the result\n",
    "FindTheDat(22,1,2017)\n",
    "\t"
   ]
  },
  {
   "cell_type": "markdown",
   "metadata": {},
   "source": [
    "__Exercise 1.4.__ How many times did Friday the 13th occur in the years 1900-1999? Does this number seem to be similar to other centuries?"
   ]
  },
  {
   "cell_type": "code",
   "execution_count": 11,
   "metadata": {
    "collapsed": false
   },
   "outputs": [
    {
     "name": "stdout",
     "output_type": "stream",
     "text": [
      "('The number of Friday is ', 172)\n"
     ]
    }
   ],
   "source": [
    "year_test = numpy.arange(1900,2000,1) #Get a sequence that is every year of 20th century\n",
    "month_test = numpy.arange(1,13,1) #Get every month\n",
    "result = 0\n",
    "for i in range(0,100):\n",
    "\tfor j in range(0,12):\n",
    "\t\tresult = numpy.append(FindTheDat(13, month_test[j], year_test[i]),result)\n",
    "#Using loop to find the date of every 13th\n",
    "Finalresult = collections.Counter(result)\n",
    "print(\"The number of Friday is \" ,Finalresult[\"Friday\"]) #Using count to get friday\n"
   ]
  },
  {
   "cell_type": "markdown",
   "metadata": {},
   "source": [
    "The number seems to be similar in other century since the century only influence the anchors day and only has a samll influence on the dooms day. "
   ]
  },
  {
   "cell_type": "markdown",
   "metadata": {},
   "source": [
    "__Exercise 1.5.__ How many times did Friday the 13th occur between the year 2000 and today?"
   ]
  },
  {
   "cell_type": "code",
   "execution_count": 12,
   "metadata": {
    "collapsed": false
   },
   "outputs": [
    {
     "name": "stdout",
     "output_type": "stream",
     "text": [
      "('The number of Friday is', 30)\n"
     ]
    }
   ],
   "source": [
    "year_test2 = numpy.arange(2000,2017,1)#Get a sequence that is every year of 21th century from 2000-2016\n",
    "result = 0\n",
    "for i in range(0,17):\n",
    "\tfor j in range(0,12):\n",
    "\t\tresult = numpy.append(FindTheDat(13, month_test[j],year_test[i]),result)\n",
    "Finalresult = collections.Counter(result)\n",
    "if(FindTheDat(13,1,2017)==\"Friday\"):#If 2017.1.13 is Friday\n",
    "    print(\"The number of Friday is\",Finalresult[\"Friday\"]+1)  #add 1 on the result\n",
    "else:\n",
    "    print(\"The number of Friday is\",Finalresult[\"Friday\"])\n"
   ]
  },
  {
   "cell_type": "markdown",
   "metadata": {},
   "source": [
    "## Part 2: 1978 Birthdays\n",
    "\n",
    "__Exercise 2.1.__ The file `birthdays.txt` contains the number of births in the United States for each day in 1978. Inspect the file to determine the format. Note that columns are separated by the tab character, which can be entered in Python as `\\t`. Write a function that uses iterators and list comprehensions with the string methods `split()` and `strip()` to  convert each line of data to the list format\n",
    "\n",
    "```Python\n",
    "[month, day, year, count]\n",
    "```\n",
    "The elements of this list should be integers, not strings. The function `read_birthdays` provided below will help you load the file."
   ]
  },
  {
   "cell_type": "code",
   "execution_count": 76,
   "metadata": {
    "collapsed": false
   },
   "outputs": [],
   "source": [
    "def read_birthdays(file_path):\n",
    "    \"\"\"Read the contents of the birthdays file into a string.\n",
    "    \n",
    "    Arguments:\n",
    "        file_path (string): The path to the birthdays file.\n",
    "        \n",
    "    Returns:\n",
    "        string: The contents of the birthdays file.\n",
    "    \"\"\"\n",
    "    with open(file_path) as file:\n",
    "        return file.read()"
   ]
  },
  {
   "cell_type": "code",
   "execution_count": 77,
   "metadata": {
    "collapsed": false
   },
   "outputs": [],
   "source": [
    "def read_file(file_name): \n",
    "    \"\"\"Read the contents of the birthdays file into a string.\n",
    "    \n",
    "    Arguments:\n",
    "        file_path (string): The path to the birthdays file.\n",
    "        \n",
    "    Returns:\n",
    "        string: The contents of the birthdays file.\n",
    "    \"\"\"\n",
    "    \n",
    "    \n",
    "    lines_list = read_birthdays(file_name) #read the file\n",
    "    lines_list = lines_list.split(\"\\n\") #split each line by \"\\n\"\n",
    "    for i in range(6,371):\n",
    "        lines_list[i] = lines_list[i].replace(\"\\t\",\"/\")\n",
    "        lines_list[i] = map(int,lines_list[i].split(\"/\")) #Using loop to replace every \"\\t\" by '/', split by \"/\" and using map function to change into integer\n",
    "    lines_list = lines_list[6:371] \n",
    "    return lines_list\n"
   ]
  },
  {
   "cell_type": "markdown",
   "metadata": {},
   "source": [
    "__Exercise 2.2.__ Which month had the most births in 1978? Which day of the week had the most births? Which day of the week had the fewest? What conclusions can you draw? You may find the `Counter` class in the `collections` module useful."
   ]
  },
  {
   "cell_type": "code",
   "execution_count": 83,
   "metadata": {
    "collapsed": false
   },
   "outputs": [
    {
     "name": "stdout",
     "output_type": "stream",
     "text": [
      "([(8, 302795)], [('Tuesday', 504858)], ('Sunday', 421400))\n"
     ]
    }
   ],
   "source": [
    "import collections\n",
    "cnt1 = collections.Counter() #Get two sets of counters\n",
    "cnt2 = collections.Counter()\n",
    "a = read_file(\"/Users/lizhihao/Desktop/birthdays.txt\") #Read the file\n",
    "for i in range (0,365):\n",
    "    a[i].append(FindTheDat(a[i][1],a[i][0],1978))\n",
    "    cnt1[a[i][0]]+=a[i][3]\n",
    "    cnt2[a[i][4]]+=a[i][3] #using loop to add the birth number if two month are the same\n",
    "\n",
    "print(cnt1.most_common(1),cnt2.most_common(1),cnt2.most_common(7)[6]) #Get the result"
   ]
  },
  {
   "cell_type": "markdown",
   "metadata": {},
   "source": [
    "People usually inclined to have baby in summer other than other seasons and august is the most popular month that people get the baby. Moreover, People intented to get baby especially in weekdays rather tha weekend.\n"
   ]
  },
  {
   "cell_type": "markdown",
   "metadata": {},
   "source": [
    "__Exercise 2.3.__ What would be an effective way to present the information in exercise 2.2? You don't need to write any code for this exercise, just discuss what you would do."
   ]
  },
  {
   "cell_type": "markdown",
   "metadata": {
    "collapsed": true
   },
   "source": [
    "An effective way is to use bar graph or  line chart to present the information"
   ]
  }
 ],
 "metadata": {
  "anaconda-cloud": {},
  "kernelspec": {
   "display_name": "Python [default]",
   "language": "python",
   "name": "python2"
  },
  "language_info": {
   "codemirror_mode": {
    "name": "ipython",
    "version": 2
   },
   "file_extension": ".py",
   "mimetype": "text/x-python",
   "name": "python",
   "nbconvert_exporter": "python",
   "pygments_lexer": "ipython2",
   "version": "2.7.12"
  }
 },
 "nbformat": 4,
 "nbformat_minor": 2
}
