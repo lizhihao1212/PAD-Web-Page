{
 "cells": [
  {
   "cell_type": "markdown",
   "metadata": {},
   "source": [
    "<h1>Lab for 141B</h1>"
   ]
  },
  {
   "cell_type": "markdown",
   "metadata": {},
   "source": [
    "<h2>zhihao li</h2>"
   ]
  },
  {
   "cell_type": "markdown",
   "metadata": {},
   "source": [
    "<h3>Read the File</h3>"
   ]
  },
  {
   "cell_type": "code",
   "execution_count": null,
   "metadata": {
    "collapsed": true
   },
   "outputs": [],
   "source": [
    "setwd(\"~/Desktop/names\")\n",
    "nums = as.character(1950:2015)\n",
    "files = paste(nums, \".txt\", sep = \"\")\n",
    "x = sapply(files, function(x){\n",
    "  readLines(x)\n",
    "})\n"
   ]
  },
  {
   "cell_type": "markdown",
   "metadata": {},
   "source": [
    "<p>\n",
    "set up the directory and read the file\n",
    "</p>"
   ]
  },
  {
   "cell_type": "markdown",
   "metadata": {},
   "source": [
    "<h3>Use regular expression to find useful information</h3>"
   ]
  },
  {
   "cell_type": "code",
   "execution_count": null,
   "metadata": {
    "collapsed": true
   },
   "outputs": [],
   "source": [
    "reg.F = \"([A-Z])(.*?)(,M)\"\n",
    "dat = str_extract_all(x,reg.F)"
   ]
  },
  {
   "cell_type": "markdown",
   "metadata": {},
   "source": [
    "<p>\n",
    "This first code is use regular expression to find the first name of the male baby\n",
    "</p>\n",
    "<p>\n",
    "The second code is to the regular expression to extract the exact information from the txt file\n",
    "</p>"
   ]
  },
  {
   "cell_type": "code",
   "execution_count": null,
   "metadata": {
    "collapsed": true
   },
   "outputs": [],
   "source": [
    "reg.freq = \"(?<=\\\\M,)(\\\\d{1,10})\"\n",
    "dat_1 = str_extract_all(x,reg)"
   ]
  },
  {
   "cell_type": "markdown",
   "metadata": {},
   "source": [
    "<p>\n",
    "These two codes is to extract the frequency from the txt file\n",
    "</p>"
   ]
  },
  {
   "cell_type": "code",
   "execution_count": null,
   "metadata": {
    "collapsed": true
   },
   "outputs": [],
   "source": [
    "dat_2 = unlist(dat)\n",
    "dat_2 = gsub(\",M\",\"\",dat_2)\n",
    "result = table(dat_2)"
   ]
  },
  {
   "cell_type": "markdown",
   "metadata": {},
   "source": [
    "<p>\n",
    "The first code is unlist the information extracted by the regular expression.\n",
    "</p>\n",
    "<p>\n",
    "The second code and the third code is to find the frequency of each name\n",
    "</p>"
   ]
  },
  {
   "cell_type": "markdown",
   "metadata": {},
   "source": [
    "<h3>form the dataset table</h3>"
   ]
  },
  {
   "cell_type": "code",
   "execution_count": null,
   "metadata": {
    "collapsed": true
   },
   "outputs": [],
   "source": [
    "dat_1 = as.data.frame(result)\n",
    "result = aggregate(dat.freq~dat_1,data=dat,FUN=sum)"
   ]
  },
  {
   "cell_type": "markdown",
   "metadata": {},
   "source": [
    "<p>\n",
    "The first code is to form the data frame and the first column is the baby name and the second column is the frequency\n",
    "</p>\n",
    "<p>\n",
    "The second code is add the frequency of two rows if the name is the same\n",
    "</p>"
   ]
  },
  {
   "cell_type": "markdown",
   "metadata": {},
   "source": [
    "<h3>Find the first 300 popular baby's name</h3>"
   ]
  },
  {
   "cell_type": "code",
   "execution_count": null,
   "metadata": {
    "collapsed": true
   },
   "outputs": [],
   "source": [
    "newdata = head(result[order(result$dat.freq,decreasing = TRUE),],300)"
   ]
  },
  {
   "cell_type": "markdown",
   "metadata": {},
   "source": [
    "<p>\n",
    "This code is to find the first 300 popular baby's name\n",
    "</p>"
   ]
  },
  {
   "cell_type": "markdown",
   "metadata": {},
   "source": [
    "<img width=400 src=\"file:///Users/lizhihao/Desktop/sharpnack-james.jpg\"</br>"
   ]
  },
  {
   "cell_type": "markdown",
   "metadata": {},
   "source": [
    "<img width=400 src=\"file:///Users/lizhihao/Desktop/sharpnack-james.jpg\"><br>\n"
   ]
  },
  {
   "cell_type": "markdown",
   "metadata": {},
   "source": []
  }
 ],
 "metadata": {
  "anaconda-cloud": {},
  "kernelspec": {
   "display_name": "R",
   "language": "R",
   "name": "ir"
  },
  "language_info": {
   "codemirror_mode": "r",
   "file_extension": ".r",
   "mimetype": "text/x-r-source",
   "name": "R",
   "pygments_lexer": "r",
   "version": "3.3.2"
  }
 },
 "nbformat": 4,
 "nbformat_minor": 1
}
