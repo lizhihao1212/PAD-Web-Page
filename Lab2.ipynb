{
 "cells": [
  {
   "cell_type": "markdown",
   "metadata": {},
   "source": [
    "<h1>141B Lab 2: Pythonic things</h1>\n",
    "In this lab, you will add python code to the empty cells according to the instructions.  Tests with the intended output are included so that you can check your progress."
   ]
  },
  {
   "cell_type": "markdown",
   "metadata": {},
   "source": [
    "Exercise 1. create a function that takes a character as an argument, if it is 'a' then return 'A' otherwise return the original character. f('a') = 'A' and f(x) = x for all other x. "
   ]
  },
  {
   "cell_type": "code",
   "execution_count": 1,
   "metadata": {
    "collapsed": true
   },
   "outputs": [],
   "source": [
    "def f(x): \n",
    "    if x==\"a\":\n",
    "        return 'A'\n",
    "    return x"
   ]
  },
  {
   "cell_type": "markdown",
   "metadata": {},
   "source": [
    "<ul>\n",
    "<li>Using a list comprehension, apply f to each element of 'banana' and return a list of characters.</li>\n",
    "<li>Try to do the same thing with the map function.</li>\n",
    "<li>Using ''.join concatenate the characters in the list to make a string (the result should be 'bAnAnA').</li>\n",
    "</ul>"
   ]
  },
  {
   "cell_type": "code",
   "execution_count": 2,
   "metadata": {
    "collapsed": false
   },
   "outputs": [
    {
     "data": {
      "text/plain": [
       "['b', 'A', 'n', 'A', 'n', 'A']"
      ]
     },
     "execution_count": 2,
     "metadata": {},
     "output_type": "execute_result"
    }
   ],
   "source": [
    "res = []\n",
    "for i in [\"b\",'a','n','a','n','a']:\n",
    "    res.append(f(i))\n",
    "res"
   ]
  },
  {
   "cell_type": "code",
   "execution_count": 3,
   "metadata": {
    "collapsed": false
   },
   "outputs": [
    {
     "data": {
      "text/plain": [
       "['b', 'A', 'n', 'A', 'n', 'A']"
      ]
     },
     "execution_count": 3,
     "metadata": {},
     "output_type": "execute_result"
    }
   ],
   "source": [
    "map(f,['b', 'A', 'n', 'A', 'n', 'A'])"
   ]
  },
  {
   "cell_type": "code",
   "execution_count": 4,
   "metadata": {
    "collapsed": false
   },
   "outputs": [
    {
     "data": {
      "text/plain": [
       "'bAnAnA'"
      ]
     },
     "execution_count": 4,
     "metadata": {},
     "output_type": "execute_result"
    }
   ],
   "source": [
    "''.join(map(f,['b', 'A', 'n', 'A', 'n', 'A']))"
   ]
  },
  {
   "cell_type": "markdown",
   "metadata": {},
   "source": [
    "Exercise 2. Sum the first 100 numbers in a for loop."
   ]
  },
  {
   "cell_type": "code",
   "execution_count": 14,
   "metadata": {
    "collapsed": false
   },
   "outputs": [
    {
     "data": {
      "text/plain": [
       "5050"
      ]
     },
     "execution_count": 14,
     "metadata": {},
     "output_type": "execute_result"
    }
   ],
   "source": [
    "num_range = range(1,101)\n",
    "j=0\n",
    "for i in range(0,100):\n",
    "    j = j+num_range[i]\n",
    "    \n",
    "j"
   ]
  },
  {
   "cell_type": "markdown",
   "metadata": {},
   "source": [
    "Sum the first 100 numbers, but using a generator expression."
   ]
  },
  {
   "cell_type": "code",
   "execution_count": 46,
   "metadata": {
    "collapsed": false
   },
   "outputs": [
    {
     "data": {
      "text/plain": [
       "5050"
      ]
     },
     "execution_count": 46,
     "metadata": {},
     "output_type": "execute_result"
    }
   ],
   "source": [
    "n = sum(x for x in range(1,101))\n",
    "n"
   ]
  },
  {
   "cell_type": "markdown",
   "metadata": {},
   "source": [
    "Using a generator expression sum the square of the first 100 numbers."
   ]
  },
  {
   "cell_type": "code",
   "execution_count": 16,
   "metadata": {
    "collapsed": false
   },
   "outputs": [
    {
     "data": {
      "text/plain": [
       "338350"
      ]
     },
     "execution_count": 16,
     "metadata": {},
     "output_type": "execute_result"
    }
   ],
   "source": [
    "a = sum(x**2 for x in range(1,101))\n",
    "a"
   ]
  },
  {
   "cell_type": "markdown",
   "metadata": {},
   "source": [
    "Exercise 3. Let's create the Fibonacci sequence.  Start a list $Fib$ of where the first elements are 1,1, and follow the relation that\n",
    "$$Fib[i] = Fib[i-1] + Fib[i-2]$$\n",
    "Generate the Fibonacci numbers less than 1000 and store it in a list."
   ]
  },
  {
   "cell_type": "code",
   "execution_count": 17,
   "metadata": {
    "collapsed": false
   },
   "outputs": [
    {
     "data": {
      "text/plain": [
       "[1, 1, 2, 3, 5, 8, 13, 21, 34, 55, 89, 144, 233, 377, 610, 987]"
      ]
     },
     "execution_count": 17,
     "metadata": {},
     "output_type": "execute_result"
    }
   ],
   "source": [
    "Fib = [1,1]\n",
    "i = 2\n",
    "while(i>=0):\n",
    "    tmp = Fib[i-1]+Fib[i-2]\n",
    "    if(tmp>1000):\n",
    "        break\n",
    "    else:\n",
    "        Fib.append(tmp)\n",
    "    i = i+1\n",
    "    \n",
    "        \n",
    "Fib  "
   ]
  },
  {
   "cell_type": "code",
   "execution_count": 18,
   "metadata": {
    "collapsed": false
   },
   "outputs": [
    {
     "name": "stdout",
     "output_type": "stream",
     "text": [
      "[1, 1, 2, 3, 5, 8, 13, 21, 34, 55, 89, 144, 233, 377, 610, 987]\n"
     ]
    }
   ],
   "source": [
    "print Fib"
   ]
  },
  {
   "cell_type": "markdown",
   "metadata": {},
   "source": [
    "Exercise 4. Create a function called addone that does the following depending on the type of the input.  \n",
    "<ul>\n",
    "<li>Integer: add 1</li>\n",
    "<li>Float: add 1.0</li>\n",
    "<li>String: take the last character and increment the character to the next character in alphabetical order using ord and chr.</li>\n",
    "</ul>"
   ]
  },
  {
   "cell_type": "code",
   "execution_count": 19,
   "metadata": {
    "collapsed": true
   },
   "outputs": [],
   "source": [
    "def addone(x): \n",
    "        if(type(x)==str):\n",
    "            x = x.replace(x[len(x)-1],chr(ord(x[len(x)-1])+1))\n",
    "        elif(type(x)==int):\n",
    "            x = x+1\n",
    "        elif(type(x)==float):\n",
    "            x = x+1.0\n",
    "        \n",
    "       \n",
    "    \n",
    "   \n",
    "        return x\n"
   ]
  },
  {
   "cell_type": "code",
   "execution_count": 20,
   "metadata": {
    "collapsed": false
   },
   "outputs": [
    {
     "name": "stdout",
     "output_type": "stream",
     "text": [
      "bonfirf 2 4.2\n"
     ]
    }
   ],
   "source": [
    "print addone('bonfire'), addone(1), addone(3.2)"
   ]
  },
  {
   "cell_type": "markdown",
   "metadata": {},
   "source": [
    "Exercise 5. Create a function called commarem that removes all commas from a string.  Try to make it so that it will run faster if there is no comma in it.  Below is a timing of these two different inputs."
   ]
  },
  {
   "cell_type": "code",
   "execution_count": 21,
   "metadata": {
    "collapsed": false
   },
   "outputs": [],
   "source": [
    "def commarem(x):\n",
    "     x = x.replace(\",\",\"\")\n",
    "     return x"
   ]
  },
  {
   "cell_type": "code",
   "execution_count": 22,
   "metadata": {
    "collapsed": false
   },
   "outputs": [
    {
     "name": "stdout",
     "output_type": "stream",
     "text": [
      "The slowest run took 10.08 times longer than the fastest. This could mean that an intermediate result is being cached.\n",
      "1000000 loops, best of 3: 591 ns per loop\n"
     ]
    }
   ],
   "source": [
    "%timeit commarem('1300')"
   ]
  },
  {
   "cell_type": "code",
   "execution_count": 7,
   "metadata": {
    "collapsed": false
   },
   "outputs": [
    {
     "name": "stdout",
     "output_type": "stream",
     "text": [
      "The slowest run took 7.20 times longer than the fastest. This could mean that an intermediate result is being cached.\n",
      "1000000 loops, best of 3: 662 ns per loop\n"
     ]
    }
   ],
   "source": [
    "%timeit commarem('1,300')"
   ]
  },
  {
   "cell_type": "markdown",
   "metadata": {},
   "source": [
    "Exercise 6. Create a set of the 5 lower case vowels and the set of 21 lower case consonants by removing the set of vowels from the alphabet."
   ]
  },
  {
   "cell_type": "code",
   "execution_count": 44,
   "metadata": {
    "collapsed": false
   },
   "outputs": [
    {
     "name": "stdout",
     "output_type": "stream",
     "text": [
      "set(['c', 'b', 'd', 'g', 'f', 'h', 'k', 'j', 'm', 'l', 'n', 'q', 'p', 's', 'r', 't', 'w', 'v', 'y', 'x', 'z'])\n",
      "set(['a', 'i', 'e', 'u', 'o'])\n"
     ]
    }
   ],
   "source": [
    "import string\n",
    "a = map(chr,range(97,123))\n",
    "b = set([\"a\",\"e\",\"i\",\"o\",\"u\"])\n",
    "c = set(a) - set(b)\n",
    "print(c)\n",
    "print(b)"
   ]
  },
  {
   "cell_type": "markdown",
   "metadata": {},
   "source": [
    "Create a function called newletters that takes a string, s, and returns a list of strings formed by appending a new character to s, with the provision that that character must be a vowel if the last letter of s is a consonant and must be a consonant if the last letter of s is a vowel."
   ]
  },
  {
   "cell_type": "code",
   "execution_count": 39,
   "metadata": {
    "collapsed": true
   },
   "outputs": [],
   "source": [
    "def newletters(s):\n",
    "    a = set(map(chr, range(97, 123)))\n",
    "    a.remove(\"a\")\n",
    "    a.remove(\"e\")\n",
    "    a.remove(\"i\")\n",
    "    a.remove(\"o\")\n",
    "    a.remove(\"u\")\n",
    "    d = [\"a\",\"e\",\"i\",\"o\",\"u\"]\n",
    "    c = [\"a\"]\n",
    "    if(s[len(s)-1]=='a'or s[len(s)-1]=='e'or s[len(s)-1]=='i'or s[len(s)-1]=='o' or s[len(s)-1]=='u'):\n",
    "        for i in a:\n",
    "            b = s+i\n",
    "            c.append(b) \n",
    "  \n",
    "    else:\n",
    "        for i in d:\n",
    "             b = s+i\n",
    "             c.append(b) \n",
    "            \n",
    "    c.pop(0)\n",
    "    return c;"
   ]
  },
  {
   "cell_type": "code",
   "execution_count": 40,
   "metadata": {
    "collapsed": false
   },
   "outputs": [
    {
     "data": {
      "text/plain": [
       "['banana', 'banane', 'banani', 'banano', 'bananu']"
      ]
     },
     "execution_count": 40,
     "metadata": {},
     "output_type": "execute_result"
    }
   ],
   "source": [
    "newletters('banan')"
   ]
  },
  {
   "cell_type": "code",
   "execution_count": 41,
   "metadata": {
    "collapsed": true
   },
   "outputs": [],
   "source": [
    "words = ['hamburge','chicke','hotdog','rubarb','tahini']"
   ]
  },
  {
   "cell_type": "markdown",
   "metadata": {},
   "source": [
    "For the words list above, using a generator expression, create a dictionary with the keys being the elements of words and the items being newletters applied to the key."
   ]
  },
  {
   "cell_type": "code",
   "execution_count": 42,
   "metadata": {
    "collapsed": false
   },
   "outputs": [],
   "source": [
    "newwords = {x:newletters(x) for x in words}"
   ]
  },
  {
   "cell_type": "code",
   "execution_count": 43,
   "metadata": {
    "collapsed": false
   },
   "outputs": [
    {
     "data": {
      "text/plain": [
       "['chickec',\n",
       " 'chickeb',\n",
       " 'chicked',\n",
       " 'chickeg',\n",
       " 'chickef',\n",
       " 'chickeh',\n",
       " 'chickek',\n",
       " 'chickej',\n",
       " 'chickem',\n",
       " 'chickel',\n",
       " 'chicken',\n",
       " 'chickeq',\n",
       " 'chickep',\n",
       " 'chickes',\n",
       " 'chicker',\n",
       " 'chicket',\n",
       " 'chickew',\n",
       " 'chickev',\n",
       " 'chickey',\n",
       " 'chickex',\n",
       " 'chickez']"
      ]
     },
     "execution_count": 43,
     "metadata": {},
     "output_type": "execute_result"
    }
   ],
   "source": [
    "newwords['chicke']"
   ]
  },
  {
   "cell_type": "code",
   "execution_count": null,
   "metadata": {
    "collapsed": true
   },
   "outputs": [],
   "source": []
  },
  {
   "cell_type": "code",
   "execution_count": null,
   "metadata": {
    "collapsed": true
   },
   "outputs": [],
   "source": []
  }
 ],
 "metadata": {
  "anaconda-cloud": {},
  "kernelspec": {
   "display_name": "Python [default]",
   "language": "python",
   "name": "python2"
  },
  "language_info": {
   "codemirror_mode": {
    "name": "ipython",
    "version": 2
   },
   "file_extension": ".py",
   "mimetype": "text/x-python",
   "name": "python",
   "nbconvert_exporter": "python",
   "pygments_lexer": "ipython2",
   "version": "2.7.12"
  }
 },
 "nbformat": 4,
 "nbformat_minor": 1
}
